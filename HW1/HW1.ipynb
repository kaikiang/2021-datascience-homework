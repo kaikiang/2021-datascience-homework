{
 "cells": [
  {
   "cell_type": "markdown",
   "metadata": {},
   "source": [
    "# Introduction to Data Science – Homework 1\n",
    "*COMP 5360 / MATH 4100, University of Utah, http://datasciencecourse.net/*\n",
    "\n",
    "Due: Friday, Jannuary 29, 11:59pm.\n",
    "\n",
    "This homework is designed to practice the skills we learned in up until Lecture 3: working with loops, conditions, functions, and the built-in Python data structures. Make sure to go through the lecture again in case you have any troubles.\n",
    "\n",
    "**Note: You may not use higher-level library functions but should implement everything using functions, loops, and conditions.**"
   ]
  },
  {
   "cell_type": "markdown",
   "metadata": {},
   "source": [
    "## Your Data\n",
    "Fill out the following information: \n",
    "\n",
    "*First Name:* Kai  \n",
    "*Last Name:*   Thanasitsomboon\n",
    "*E-mail:*   saranyu.thanasitsomboon@utah.edu\n",
    "*UID:*  U1223152\n"
   ]
  },
  {
   "cell_type": "markdown",
   "metadata": {},
   "source": [
    "## Problem 1: Largest Element\n",
    "\n",
    "Write a function that returns the largest element in a list. You can assume the list has at least one element."
   ]
  },
  {
   "cell_type": "code",
   "execution_count": null,
   "metadata": {},
   "outputs": [],
   "source": [
    "# your code"
   ]
  },
  {
   "cell_type": "code",
   "execution_count": null,
   "metadata": {},
   "outputs": [],
   "source": [
    "print(get_largest_element([13, 25, 29, 17, 99, 133, -12, 0, 18]))"
   ]
  },
  {
   "cell_type": "markdown",
   "metadata": {},
   "source": [
    "## Problem 2: Reverse List\n",
    "\n",
    "Write a function `reverse` that takes a list as a parameter and reverses it."
   ]
  },
  {
   "cell_type": "code",
   "execution_count": null,
   "metadata": {},
   "outputs": [],
   "source": [
    "# your code"
   ]
  },
  {
   "cell_type": "code",
   "execution_count": null,
   "metadata": {},
   "outputs": [],
   "source": [
    "# call your function with a couple of different lists and print the results here\n",
    "print(reverse([1, 2 ,3 ,4 ,5]))\n",
    "print(reverse([\"John\", \"Paul\", \"Ringo\", \"George\"]))\n",
    "print(reverse([1, 2 ,3 ,\"John\", \"Paul\"]))"
   ]
  },
  {
   "cell_type": "code",
   "execution_count": null,
   "metadata": {},
   "outputs": [],
   "source": [
    "print(reverse_comprehension([1, 2 ,3 ,4 ,5]))\n",
    "print(reverse_comprehension([\"John\", \"Paul\", \"Ringo\", \"George\"]))\n",
    "print(reverse_comprehension([1, 2 ,3 ,\"John\", \"Paul\"]))"
   ]
  },
  {
   "cell_type": "markdown",
   "metadata": {},
   "source": [
    "## Problem 3: Combining List\n",
    "\n",
    "Write a function that combines two lists by alternatingly taking elements, e.g. [a,b,c], [1,2,3] → [a,1,b,2,c,3].\n",
    "In case of two lists of different length, the result should be [a,b,c,d],[1,2]=>[a,1,b,2,c,d], i.e., the elements of the longer list are appended at the end."
   ]
  },
  {
   "cell_type": "code",
   "execution_count": null,
   "metadata": {},
   "outputs": [],
   "source": [
    "# your code"
   ]
  },
  {
   "cell_type": "code",
   "execution_count": null,
   "metadata": {},
   "outputs": [],
   "source": [
    "# call your function with a couple of different lists and print the results here\n",
    "print(combine_list([1,2,3], ['a', 'b', 'c', 'd', 'e']))"
   ]
  },
  {
   "cell_type": "markdown",
   "metadata": {},
   "source": [
    "## Problem 4: Numbers to Digits\n",
    "\n",
    "Write a function `num_to_digits` that takes a number and returns a list of its digits. e.g. 789456 → [7, 8, 9, 4, 5, 6]"
   ]
  },
  {
   "cell_type": "code",
   "execution_count": null,
   "metadata": {},
   "outputs": [],
   "source": [
    "# your code"
   ]
  },
  {
   "cell_type": "code",
   "execution_count": null,
   "metadata": {},
   "outputs": [],
   "source": [
    "# call your function with a couple of different lists and print the results here\n",
    "print(num_to_digits(789456))\n",
    "print(num_to_digits(1239710947091823091823))\n",
    "print()\n",
    "print(num_to_digits_comprehension(789456))\n",
    "print(num_to_digits_comprehension(1239710947091823091823))"
   ]
  },
  {
   "cell_type": "markdown",
   "metadata": {},
   "source": [
    "## Problem 5: Sums\n",
    "\n",
    "Write three functions that compute the sum of the numbers in a list. The first function should use a for-loop, the second a while-loop and the third should use recursion."
   ]
  },
  {
   "cell_type": "code",
   "execution_count": null,
   "metadata": {},
   "outputs": [],
   "source": [
    "# your code"
   ]
  },
  {
   "cell_type": "code",
   "execution_count": null,
   "metadata": {},
   "outputs": [],
   "source": [
    "# call your function with a couple of different lists and print the results here\n",
    "list1 = range(11)\n",
    "list2 = [1, 2, 3, 9, 7, 1, 0, 9, 4, 7, 0, 9]\n",
    "list3 = [ 1, 8, 2, 3, 0, 9, 1, 8, 2, 3]\n",
    "\n",
    "print(add_for(list1), add_while(list1), add_recursive(list1), add_recursive_no_copy(list1))\n",
    "print()\n",
    "print(add_for(list2), add_while(list2), add_recursive(list2), add_recursive_no_copy(list2))\n",
    "print()\n",
    "print(add_for(list3), add_while(list3), add_recursive(list3), add_recursive_no_copy(list3))"
   ]
  },
  {
   "cell_type": "markdown",
   "metadata": {},
   "source": [
    "## Problem 6: Fibonacchi Sequence\n",
    "\n",
    "Write a function that takes a number `n` and an empty array that writes the first `n` numbers of the [Fibonacchi Sequence](https://en.wikipedia.org/wiki/Fibonacci_number) into the empty array. Print the array. \n",
    "\n",
    "The Fibonnachi Sequnece is the sequence where every number after the first two is the sum of the previous two numbers, i.e.,\n",
    "\n",
    "1, 1, 2, 3, 5, 8, 13, 21, 34, 55, ..."
   ]
  },
  {
   "cell_type": "code",
   "execution_count": null,
   "metadata": {},
   "outputs": [],
   "source": [
    "# your code  "
   ]
  },
  {
   "cell_type": "code",
   "execution_count": null,
   "metadata": {},
   "outputs": [],
   "source": [
    "# call your function with a couple of different n and print the results here\n",
    "sequence = []\n",
    "fibonnachi(19, sequence)\n",
    "print(sequence)  "
   ]
  },
  {
   "cell_type": "markdown",
   "metadata": {},
   "source": [
    "# Problem 7: Rolling Temperature Averages\n",
    "\n",
    "Write a function `rolling_average` that takes a list of daily temperature values, and computes a rolling average over `k` days. Some days will be missing measurements and will instead have the value `None`.\n",
    "\n",
    "**Caveats:**\n",
    "* The days missing measurements should be included in your `k` day window, but should not affect the average.\n",
    "  * e.g.`rolling_average([1,None,2],3)` should return `[1.5]`\n",
    "* If all days in a window are missing measurements then the average should also have the value `None`.\n",
    "  * e.g. `rolling_average([None, None, 2], 2)` should return `[None, 2]`\n",
    "* Only compute averages as long as you have enough data points to fill the window.\n",
    "  * e.g. `rolling_average([1,2,3,4,5,6,7,8],7)` should return a list of length two.\n",
    "  * e.g. `rolling_average([1,2,3,4,5],2)` should return a list of length 4.\n",
    "  * e.g. `rolling_average([1,2,3], 4)` should return an empty list.\n",
    "\n",
    "You can use these as example lists, but make sure that your algorithm works on other lists/windows."
   ]
  },
  {
   "cell_type": "markdown",
   "metadata": {},
   "source": [
    "### From provided examples:"
   ]
  },
  {
   "cell_type": "code",
   "execution_count": null,
   "metadata": {},
   "outputs": [],
   "source": [
    "print('Computed Averages: ' + str(rolling_average([1,None,2],3)), 'Expected: [1.5]')\n",
    "print('Computed Averages: ' + str(rolling_average([None, None, 2], 2)), 'Expected: [None, 2.0]')\n",
    "print('Length of List: ' + str(len(rolling_average([1,2,3,4,5,6,7,8],7))), 'Expected Length: 2')\n",
    "print('Length of List: ' + str(len(rolling_average([1,2,3,4,5],2))), 'Expected Length: 4')\n",
    "print('Length of List: ' + str(len(rolling_average([1,2,3],3))), 'Expected Length: 1')"
   ]
  },
  {
   "cell_type": "markdown",
   "metadata": {},
   "source": [
    "### Other Examples:"
   ]
  },
  {
   "cell_type": "code",
   "execution_count": null,
   "metadata": {},
   "outputs": [],
   "source": [
    "temp_1 = range(15)"
   ]
  },
  {
   "cell_type": "code",
   "execution_count": null,
   "metadata": {},
   "outputs": [],
   "source": [
    "temp_2 = [32,33,None,45,42,None]"
   ]
  },
  {
   "cell_type": "code",
   "execution_count": null,
   "metadata": {},
   "outputs": [],
   "source": [
    "temp_3 = [77,None,None,None,68,60,70,None,92]"
   ]
  },
  {
   "cell_type": "code",
   "execution_count": null,
   "metadata": {},
   "outputs": [],
   "source": [
    "temp_4 = [1,2,3]"
   ]
  },
  {
   "cell_type": "code",
   "execution_count": null,
   "metadata": {},
   "outputs": [],
   "source": [
    "temp_5 = [None, None, None, 42]"
   ]
  },
  {
   "cell_type": "code",
   "execution_count": null,
   "metadata": {},
   "outputs": [],
   "source": [
    "temp_6 = []"
   ]
  },
  {
   "cell_type": "code",
   "execution_count": null,
   "metadata": {},
   "outputs": [],
   "source": [
    "print(rolling_average(temp_1, 7))"
   ]
  },
  {
   "cell_type": "code",
   "execution_count": null,
   "metadata": {},
   "outputs": [],
   "source": [
    "print(rolling_average(temp_2, 2))\n",
    "print(rolling_average(temp_2, 3))"
   ]
  },
  {
   "cell_type": "code",
   "execution_count": null,
   "metadata": {},
   "outputs": [],
   "source": [
    "print(rolling_average(temp_3, 2))\n",
    "print(rolling_average(temp_3, 3))\n",
    "print(rolling_average(temp_3, 4))"
   ]
  },
  {
   "cell_type": "code",
   "execution_count": null,
   "metadata": {
    "scrolled": true
   },
   "outputs": [],
   "source": [
    "print(rolling_average(temp_4, 1))\n",
    "print(rolling_average(temp_4, 2))\n",
    "print(rolling_average(temp_4, 3))\n",
    "print(rolling_average(temp_4, 4))"
   ]
  },
  {
   "cell_type": "code",
   "execution_count": null,
   "metadata": {
    "scrolled": false
   },
   "outputs": [],
   "source": [
    "print(rolling_average(temp_5, 1))\n",
    "print(rolling_average(temp_5, 2))\n",
    "print(rolling_average(temp_5, 3))\n",
    "print(rolling_average(temp_5, 4))"
   ]
  },
  {
   "cell_type": "code",
   "execution_count": null,
   "metadata": {
    "scrolled": true
   },
   "outputs": [],
   "source": [
    "print(rolling_average(temp_6, 1))\n",
    "print(rolling_average(temp_6, 7))"
   ]
  }
 ],
 "metadata": {
  "anaconda-cloud": {},
  "kernelspec": {
   "display_name": "Python 3",
   "language": "python",
   "name": "python3"
  },
  "language_info": {
   "codemirror_mode": {
    "name": "ipython",
    "version": 3
   },
   "file_extension": ".py",
   "mimetype": "text/x-python",
   "name": "python",
   "nbconvert_exporter": "python",
   "pygments_lexer": "ipython3",
   "version": "3.8.5"
  }
 },
 "nbformat": 4,
 "nbformat_minor": 1
}
